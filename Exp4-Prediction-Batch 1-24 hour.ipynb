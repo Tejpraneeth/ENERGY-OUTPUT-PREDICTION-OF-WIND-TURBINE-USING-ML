{
 "cells": [
  {
   "cell_type": "code",
   "execution_count": 1,
   "metadata": {},
   "outputs": [
    {
     "name": "stderr",
     "output_type": "stream",
     "text": [
      "Using TensorFlow backend.\n"
     ]
    }
   ],
   "source": [
    "from pandas import DataFrame\n",
    "from pandas import Series\n",
    "from pandas import concat\n",
    "from pandas import read_csv\n",
    "from pandas import datetime\n",
    "from sklearn.metrics import mean_squared_error\n",
    "from sklearn.preprocessing import MinMaxScaler\n",
    "from keras.models import Sequential\n",
    "from keras.layers import Dense\n",
    "from keras.layers import LSTM\n",
    "from math import sqrt\n",
    "from matplotlib import pyplot\n",
    "import numpy as np\n",
    "import pandas as pd"
   ]
  },
  {
   "cell_type": "code",
   "execution_count": 2,
   "metadata": {},
   "outputs": [],
   "source": [
    "# Hardcode all variables\n",
    "batch_size_exp = 1\n",
    "epoch_exp = 7\n",
    "neurons_exp = 10\n",
    "predict_values_exp = 24\n",
    "lag_exp=24"
   ]
  },
  {
   "cell_type": "code",
   "execution_count": 3,
   "metadata": {},
   "outputs": [],
   "source": [
    "# frame a sequence as a supervised learning problem\n",
    "def timeseries_to_supervised(data, lag=1):\n",
    "    df = DataFrame(data)\n",
    "    columns = [df.shift(i) for i in range(1, lag+1)]\n",
    "    columns.append(df)\n",
    "    df = concat(columns, axis=1)\n",
    "    df.fillna(0, inplace=True)\n",
    "    return df"
   ]
  },
  {
   "cell_type": "code",
   "execution_count": 4,
   "metadata": {},
   "outputs": [],
   "source": [
    "# create a differenced series\n",
    "def difference(dataset, interval=1):\n",
    "    diff = list()\n",
    "    for i in range(interval, len(dataset)):\n",
    "        value = dataset[i] - dataset[i - interval]\n",
    "        diff.append(value)\n",
    "    return Series(diff)"
   ]
  },
  {
   "cell_type": "code",
   "execution_count": 5,
   "metadata": {},
   "outputs": [],
   "source": [
    "# invert differenced value\n",
    "def inverse_difference(history, yhat, interval=1):\n",
    "    return yhat + history[-interval]"
   ]
  },
  {
   "cell_type": "code",
   "execution_count": 6,
   "metadata": {},
   "outputs": [],
   "source": [
    "# scale train and test data to [-1, 1]\n",
    "def scale(train, test):\n",
    "    # fit scaler\n",
    "    scaler = MinMaxScaler(feature_range=(-1, 1))\n",
    "    scaler = scaler.fit(train)\n",
    "    # transform train\n",
    "    train = train.reshape(train.shape[0], train.shape[1])\n",
    "    train_scaled = scaler.transform(train)\n",
    "    # transform test\n",
    "    test = test.reshape(test.shape[0], test.shape[1])\n",
    "    test_scaled = scaler.transform(test)\n",
    "    return scaler, train_scaled, test_scaled"
   ]
  },
  {
   "cell_type": "code",
   "execution_count": 7,
   "metadata": {},
   "outputs": [],
   "source": [
    "# inverse scaling for a forecasted value\n",
    "def invert_scale(scaler, X, value):\n",
    "    new_row = [x for x in X] + [value]\n",
    "    array = np.array(new_row)\n",
    "    array = array.reshape(1, len(array))\n",
    "    inverted = scaler.inverse_transform(array)\n",
    "    return inverted[0, -1]"
   ]
  },
  {
   "cell_type": "code",
   "execution_count": 8,
   "metadata": {},
   "outputs": [],
   "source": [
    "# fit an LSTM network to training data\n",
    "def fit_lstm(train, batch_size, nb_epoch, neurons):\n",
    "    X, y = train[:, 0:-1], train[:, -1]\n",
    "    X = X.reshape(X.shape[0], 1, X.shape[1])\n",
    "    model = Sequential()\n",
    "    model.add(LSTM(neurons, batch_input_shape=(batch_size, X.shape[1], X.shape[2]), stateful=True))\n",
    "    model.add(Dense(1))\n",
    "    model.compile(loss='mean_squared_error', optimizer='adam')\n",
    "    for i in range(nb_epoch):\n",
    "        model.fit(X, y, epochs=1, batch_size=batch_size, verbose=1, shuffle=False)\n",
    "        model.reset_states()\n",
    "    return model"
   ]
  },
  {
   "cell_type": "code",
   "execution_count": 9,
   "metadata": {},
   "outputs": [],
   "source": [
    "# make a one-step forecast\n",
    "def forecast_lstm(model, batch_size, X):\n",
    "    X = X.reshape(1, 1, len(X))\n",
    "    #print(X)\n",
    "    yhat = model.predict(X, batch_size=1)\n",
    "    return yhat[0,0]"
   ]
  },
  {
   "cell_type": "code",
   "execution_count": 10,
   "metadata": {},
   "outputs": [
    {
     "data": {
      "text/html": [
       "<div>\n",
       "<style scoped>\n",
       "    .dataframe tbody tr th:only-of-type {\n",
       "        vertical-align: middle;\n",
       "    }\n",
       "\n",
       "    .dataframe tbody tr th {\n",
       "        vertical-align: top;\n",
       "    }\n",
       "\n",
       "    .dataframe thead th {\n",
       "        text-align: right;\n",
       "    }\n",
       "</style>\n",
       "<table border=\"1\" class=\"dataframe\">\n",
       "  <thead>\n",
       "    <tr style=\"text-align: right;\">\n",
       "      <th></th>\n",
       "      <th>Air temperature | ('C)</th>\n",
       "      <th>Pressure | (atm)</th>\n",
       "      <th>Wind speed | (m/s)</th>\n",
       "      <th>Wind direction | (deg)</th>\n",
       "      <th>Power generated by system | (kW)</th>\n",
       "    </tr>\n",
       "    <tr>\n",
       "      <th>DateTime</th>\n",
       "      <th></th>\n",
       "      <th></th>\n",
       "      <th></th>\n",
       "      <th></th>\n",
       "      <th></th>\n",
       "    </tr>\n",
       "  </thead>\n",
       "  <tbody>\n",
       "    <tr>\n",
       "      <th>2007-01-01 00:00:00</th>\n",
       "      <td>10.926</td>\n",
       "      <td>0.979103</td>\n",
       "      <td>9.014</td>\n",
       "      <td>229</td>\n",
       "      <td>33688.1</td>\n",
       "    </tr>\n",
       "    <tr>\n",
       "      <th>2007-01-01 01:00:00</th>\n",
       "      <td>9.919</td>\n",
       "      <td>0.979566</td>\n",
       "      <td>9.428</td>\n",
       "      <td>232</td>\n",
       "      <td>37261.9</td>\n",
       "    </tr>\n",
       "    <tr>\n",
       "      <th>2007-01-01 02:00:00</th>\n",
       "      <td>8.567</td>\n",
       "      <td>0.979937</td>\n",
       "      <td>8.700</td>\n",
       "      <td>236</td>\n",
       "      <td>30502.9</td>\n",
       "    </tr>\n",
       "    <tr>\n",
       "      <th>2007-01-01 03:00:00</th>\n",
       "      <td>7.877</td>\n",
       "      <td>0.980053</td>\n",
       "      <td>8.481</td>\n",
       "      <td>247</td>\n",
       "      <td>28419.2</td>\n",
       "    </tr>\n",
       "    <tr>\n",
       "      <th>2007-01-01 04:00:00</th>\n",
       "      <td>7.259</td>\n",
       "      <td>0.979867</td>\n",
       "      <td>8.383</td>\n",
       "      <td>256</td>\n",
       "      <td>27370.3</td>\n",
       "    </tr>\n",
       "  </tbody>\n",
       "</table>\n",
       "</div>"
      ],
      "text/plain": [
       "                     Air temperature | ('C)  Pressure | (atm)  \\\n",
       "DateTime                                                        \n",
       "2007-01-01 00:00:00                  10.926          0.979103   \n",
       "2007-01-01 01:00:00                   9.919          0.979566   \n",
       "2007-01-01 02:00:00                   8.567          0.979937   \n",
       "2007-01-01 03:00:00                   7.877          0.980053   \n",
       "2007-01-01 04:00:00                   7.259          0.979867   \n",
       "\n",
       "                     Wind speed | (m/s)  Wind direction | (deg)  \\\n",
       "DateTime                                                          \n",
       "2007-01-01 00:00:00               9.014                     229   \n",
       "2007-01-01 01:00:00               9.428                     232   \n",
       "2007-01-01 02:00:00               8.700                     236   \n",
       "2007-01-01 03:00:00               8.481                     247   \n",
       "2007-01-01 04:00:00               8.383                     256   \n",
       "\n",
       "                     Power generated by system | (kW)  \n",
       "DateTime                                               \n",
       "2007-01-01 00:00:00                           33688.1  \n",
       "2007-01-01 01:00:00                           37261.9  \n",
       "2007-01-01 02:00:00                           30502.9  \n",
       "2007-01-01 03:00:00                           28419.2  \n",
       "2007-01-01 04:00:00                           27370.3  "
      ]
     },
     "execution_count": 10,
     "metadata": {},
     "output_type": "execute_result"
    }
   ],
   "source": [
    "''' Loading data '''\n",
    "import pandas as pd\n",
    "series = pd.read_excel('AL_WIND_07_12.xlsx',index_col=\"DateTime\")\n",
    "series.head()"
   ]
  },
  {
   "cell_type": "code",
   "execution_count": 11,
   "metadata": {},
   "outputs": [
    {
     "data": {
      "text/html": [
       "<div>\n",
       "<style scoped>\n",
       "    .dataframe tbody tr th:only-of-type {\n",
       "        vertical-align: middle;\n",
       "    }\n",
       "\n",
       "    .dataframe tbody tr th {\n",
       "        vertical-align: top;\n",
       "    }\n",
       "\n",
       "    .dataframe thead th {\n",
       "        text-align: right;\n",
       "    }\n",
       "</style>\n",
       "<table border=\"1\" class=\"dataframe\">\n",
       "  <thead>\n",
       "    <tr style=\"text-align: right;\">\n",
       "      <th></th>\n",
       "      <th>Power generated by system | (kW)</th>\n",
       "    </tr>\n",
       "    <tr>\n",
       "      <th>DateTime</th>\n",
       "      <th></th>\n",
       "    </tr>\n",
       "  </thead>\n",
       "  <tbody>\n",
       "    <tr>\n",
       "      <th>2007-01-01 00:00:00</th>\n",
       "      <td>33688.1</td>\n",
       "    </tr>\n",
       "    <tr>\n",
       "      <th>2007-01-01 01:00:00</th>\n",
       "      <td>37261.9</td>\n",
       "    </tr>\n",
       "    <tr>\n",
       "      <th>2007-01-01 02:00:00</th>\n",
       "      <td>30502.9</td>\n",
       "    </tr>\n",
       "    <tr>\n",
       "      <th>2007-01-01 03:00:00</th>\n",
       "      <td>28419.2</td>\n",
       "    </tr>\n",
       "    <tr>\n",
       "      <th>2007-01-01 04:00:00</th>\n",
       "      <td>27370.3</td>\n",
       "    </tr>\n",
       "  </tbody>\n",
       "</table>\n",
       "</div>"
      ],
      "text/plain": [
       "                     Power generated by system | (kW)\n",
       "DateTime                                             \n",
       "2007-01-01 00:00:00                           33688.1\n",
       "2007-01-01 01:00:00                           37261.9\n",
       "2007-01-01 02:00:00                           30502.9\n",
       "2007-01-01 03:00:00                           28419.2\n",
       "2007-01-01 04:00:00                           27370.3"
      ]
     },
     "execution_count": 11,
     "metadata": {},
     "output_type": "execute_result"
    }
   ],
   "source": [
    "'''Drop all the features as we will not be having any in production'''\n",
    "del series['Air temperature | (\\'C)']\n",
    "del series['Pressure | (atm)']\n",
    "del series['Wind speed | (m/s)']\n",
    "del series['Wind direction | (deg)']\n",
    "series.head()"
   ]
  },
  {
   "cell_type": "code",
   "execution_count": 12,
   "metadata": {},
   "outputs": [
    {
     "data": {
      "text/html": [
       "<div>\n",
       "<style scoped>\n",
       "    .dataframe tbody tr th:only-of-type {\n",
       "        vertical-align: middle;\n",
       "    }\n",
       "\n",
       "    .dataframe tbody tr th {\n",
       "        vertical-align: top;\n",
       "    }\n",
       "\n",
       "    .dataframe thead th {\n",
       "        text-align: right;\n",
       "    }\n",
       "</style>\n",
       "<table border=\"1\" class=\"dataframe\">\n",
       "  <thead>\n",
       "    <tr style=\"text-align: right;\">\n",
       "      <th></th>\n",
       "      <th>Power generated by system | (kW)</th>\n",
       "    </tr>\n",
       "    <tr>\n",
       "      <th>DateTime</th>\n",
       "      <th></th>\n",
       "    </tr>\n",
       "  </thead>\n",
       "  <tbody>\n",
       "    <tr>\n",
       "      <th>2012-12-31 09:00:00</th>\n",
       "      <td>6110.57</td>\n",
       "    </tr>\n",
       "    <tr>\n",
       "      <th>2012-12-31 10:00:00</th>\n",
       "      <td>6251.34</td>\n",
       "    </tr>\n",
       "    <tr>\n",
       "      <th>2012-12-31 11:00:00</th>\n",
       "      <td>6899.17</td>\n",
       "    </tr>\n",
       "    <tr>\n",
       "      <th>2012-12-31 12:00:00</th>\n",
       "      <td>4514.49</td>\n",
       "    </tr>\n",
       "    <tr>\n",
       "      <th>2012-12-31 13:00:00</th>\n",
       "      <td>1561.25</td>\n",
       "    </tr>\n",
       "  </tbody>\n",
       "</table>\n",
       "</div>"
      ],
      "text/plain": [
       "                     Power generated by system | (kW)\n",
       "DateTime                                             \n",
       "2012-12-31 09:00:00                           6110.57\n",
       "2012-12-31 10:00:00                           6251.34\n",
       "2012-12-31 11:00:00                           6899.17\n",
       "2012-12-31 12:00:00                           4514.49\n",
       "2012-12-31 13:00:00                           1561.25"
      ]
     },
     "execution_count": 12,
     "metadata": {},
     "output_type": "execute_result"
    }
   ],
   "source": [
    "for i in range(0,10):\n",
    "  series = series[:-1]\n",
    "series.tail()"
   ]
  },
  {
   "cell_type": "code",
   "execution_count": 13,
   "metadata": {},
   "outputs": [],
   "source": [
    "# transform data to be stationary\n",
    "raw_values = series.values\n",
    "diff_values = difference(raw_values, 1)"
   ]
  },
  {
   "cell_type": "code",
   "execution_count": 14,
   "metadata": {},
   "outputs": [],
   "source": [
    "# transform data to be supervised learning\n",
    "supervised = timeseries_to_supervised(diff_values, lag_exp)\n",
    "supervised_values = supervised.values"
   ]
  },
  {
   "cell_type": "code",
   "execution_count": 15,
   "metadata": {},
   "outputs": [],
   "source": [
    "# split data into train and test-sets\n",
    "train, test = supervised_values[0:-predict_values_exp], supervised_values[-predict_values_exp:]"
   ]
  },
  {
   "cell_type": "code",
   "execution_count": 16,
   "metadata": {},
   "outputs": [
    {
     "name": "stderr",
     "output_type": "stream",
     "text": [
      "C:\\ProgramData\\Anaconda3\\envs\\tensorflow\\lib\\site-packages\\sklearn\\utils\\validation.py:475: DataConversionWarning: Data with input dtype object was converted to float64 by MinMaxScaler.\n",
      "  warnings.warn(msg, DataConversionWarning)\n"
     ]
    }
   ],
   "source": [
    "# transform the scale of the data\n",
    "scaler, train_scaled, test_scaled = scale(train, test)"
   ]
  },
  {
   "cell_type": "code",
   "execution_count": 17,
   "metadata": {},
   "outputs": [
    {
     "name": "stdout",
     "output_type": "stream",
     "text": [
      "Epoch 1/1\n",
      "52525/52525 [==============================] - 229s 4ms/step - loss: 0.0141\n",
      "Epoch 1/1\n",
      "52525/52525 [==============================] - 147s 3ms/step - loss: 0.0137\n",
      "Epoch 1/1\n",
      "52525/52525 [==============================] - 133s 3ms/step - loss: 0.0136\n",
      "Epoch 1/1\n",
      "52525/52525 [==============================] - 139s 3ms/step - loss: 0.0134\n",
      "Epoch 1/1\n",
      "52525/52525 [==============================] - 134s 3ms/step - loss: 0.0133\n",
      "Epoch 1/1\n",
      "52525/52525 [==============================] - 143s 3ms/step - loss: 0.0133\n",
      "Epoch 1/1\n",
      "52525/52525 [==============================] - 140s 3ms/step - loss: 0.0132\n"
     ]
    }
   ],
   "source": [
    "# fit the model\n",
    "lstm_model = fit_lstm(train_scaled, batch_size_exp, epoch_exp, neurons_exp)"
   ]
  },
  {
   "cell_type": "code",
   "execution_count": 18,
   "metadata": {},
   "outputs": [
    {
     "name": "stdout",
     "output_type": "stream",
     "text": [
      "Hour=1, Predicted=25900.606203, Expected=20005.800000\n",
      "Hour=2, Predicted=18741.940436, Expected=19870.600000\n",
      "Hour=3, Predicted=17186.347509, Expected=23296.700000\n",
      "Hour=4, Predicted=19970.544958, Expected=36275.400000\n",
      "Hour=5, Predicted=32694.307580, Expected=41119.700000\n",
      "Hour=6, Predicted=38784.901734, Expected=45831.200000\n",
      "Hour=7, Predicted=45244.571537, Expected=38451.600000\n",
      "Hour=8, Predicted=38394.014570, Expected=38107.700000\n",
      "Hour=9, Predicted=39446.226575, Expected=36325.100000\n",
      "Hour=10, Predicted=37718.859102, Expected=37641.300000\n",
      "Hour=11, Predicted=37562.185911, Expected=36876.500000\n",
      "Hour=12, Predicted=35527.747579, Expected=35723.600000\n",
      "Hour=13, Predicted=33548.336445, Expected=28221.500000\n",
      "Hour=14, Predicted=27813.484924, Expected=22650.000000\n",
      "Hour=15, Predicted=22153.684828, Expected=14845.100000\n",
      "Hour=16, Predicted=14229.969710, Expected=11449.700000\n",
      "Hour=17, Predicted=10919.903027, Expected=11637.200000\n",
      "Hour=18, Predicted=11501.872963, Expected=6465.350000\n",
      "Hour=19, Predicted=6812.684614, Expected=5802.110000\n",
      "Hour=20, Predicted=6693.225097, Expected=6110.570000\n",
      "Hour=21, Predicted=7342.619033, Expected=6251.340000\n",
      "Hour=22, Predicted=7725.498266, Expected=6899.170000\n",
      "Hour=23, Predicted=8367.495436, Expected=4514.490000\n",
      "Hour=24, Predicted=5876.067964, Expected=1561.250000\n"
     ]
    }
   ],
   "source": [
    "# walk-forward validation on the test data\n",
    "predictions = list()\n",
    "expectations = list()\n",
    "test_pred = list()\n",
    "for i in range(len(test_scaled)):\n",
    "    # make one-step forecast\n",
    "    X, y = test_scaled[i, 0:-1], test_scaled[i, -1]\n",
    "    yhat = forecast_lstm(lstm_model, 1, X)#batch_size_exp to 1\n",
    "    '''# Start Debug prints\n",
    "    print(\"X: %\", X)\n",
    "    print(\"yhat: %\", yhat)\n",
    "    # End Debug prints'''\n",
    "    # Replacing value in test scaled with the predicted value.\n",
    "    test_pred = [yhat] + test_pred \n",
    "    if i+1<len(test_scaled):\n",
    "        test_scaled[i+1] = np.concatenate((test_pred, test_scaled[i+1, i+1:]),axis=0)\n",
    "    # invert scaling\n",
    "    yhat = invert_scale(scaler, X, yhat)\n",
    "    # invert differencing\n",
    "    yhat = inverse_difference(raw_values, yhat, len(test_scaled)+1-i)\n",
    "    # store forecast\n",
    "    predictions.append(yhat)\n",
    "    expected = raw_values[len(train) + i + 1]\n",
    "    expectations.append(expected)\n",
    "    print('Hour=%d, Predicted=%f, Expected=%f' % (i+1, yhat, expected))"
   ]
  },
  {
   "cell_type": "code",
   "execution_count": 19,
   "metadata": {},
   "outputs": [
    {
     "name": "stdout",
     "output_type": "stream",
     "text": [
      "Mean Absolute Percent Error:  32.88181266987708\n"
     ]
    }
   ],
   "source": [
    "expectations = np.array(expectations)\n",
    "predictions = np.array(predictions)\n",
    "print(\"Mean Absolute Percent Error: \", (np.mean(np.abs((expectations - predictions) / expectations))*100))"
   ]
  },
  {
   "cell_type": "code",
   "execution_count": 20,
   "metadata": {},
   "outputs": [
    {
     "data": {
      "image/png": "[encoded data removed]",
      "text/plain": [
       "<Figure size 432x288 with 1 Axes>"
      ]
     },
     "metadata": {},
     "output_type": "display_data"
    }
   ],
   "source": [
    "# line plot of observed vs predicted\n",
    "pyplot.plot(raw_values[-predict_values_exp:], label=\"True\")\n",
    "pyplot.plot(predictions, label=\"Predicted\")\n",
    "pyplot.legend(loc='upper right')\n",
    "pyplot.xlabel(\"Number of hours\")\n",
    "pyplot.ylabel(\"Power generated by system (kW)\")\n",
    "pyplot.show()"
   ]
  },
  {
   "cell_type": "code",
   "execution_count": null,
   "metadata": {},
   "outputs": [],
   "source": []
  }
 ],
 "metadata": {
  "kernelspec": {
   "display_name": "Python 3",
   "language": "python",
   "name": "python3"
  },
  "language_info": {
   "codemirror_mode": {
    "name": "ipython",
    "version": 3
   },
   "file_extension": ".py",
   "mimetype": "text/x-python",
   "name": "python",
   "nbconvert_exporter": "python",
   "pygments_lexer": "ipython3",
   "version": "3.5.5"
  }
 },
 "nbformat": 4,
 "nbformat_minor": 2
}
