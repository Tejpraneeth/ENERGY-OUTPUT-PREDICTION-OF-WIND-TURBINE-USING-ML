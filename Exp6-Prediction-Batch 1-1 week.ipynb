{
 "cells": [
  {
   "cell_type": "code",
   "execution_count": 1,
   "metadata": {},
   "outputs": [
    {
     "name": "stderr",
     "output_type": "stream",
     "text": [
      "Using TensorFlow backend.\n"
     ]
    }
   ],
   "source": [
    "from pandas import DataFrame\n",
    "from pandas import Series\n",
    "from pandas import concat\n",
    "from pandas import read_csv\n",
    "from pandas import datetime\n",
    "from sklearn.metrics import mean_squared_error\n",
    "from sklearn.preprocessing import MinMaxScaler\n",
    "from keras.models import Sequential\n",
    "from keras.layers import Dense\n",
    "from keras.layers import LSTM\n",
    "from math import sqrt\n",
    "from matplotlib import pyplot\n",
    "import numpy as np\n",
    "import pandas as pd"
   ]
  },
  {
   "cell_type": "code",
   "execution_count": 2,
   "metadata": {},
   "outputs": [],
   "source": [
    "# Hardcode all variables\n",
    "batch_size_exp = 1\n",
    "epoch_exp = 7\n",
    "neurons_exp = 10\n",
    "predict_values_exp = 168\n",
    "lag_exp=24"
   ]
  },
  {
   "cell_type": "code",
   "execution_count": 3,
   "metadata": {},
   "outputs": [],
   "source": [
    "# frame a sequence as a supervised learning problem\n",
    "def timeseries_to_supervised(data, lag=1):\n",
    "    df = DataFrame(data)\n",
    "    columns = [df.shift(i) for i in range(1, lag+1)]\n",
    "    columns.append(df)\n",
    "    df = concat(columns, axis=1)\n",
    "    df.fillna(0, inplace=True)\n",
    "    return df"
   ]
  },
  {
   "cell_type": "code",
   "execution_count": 4,
   "metadata": {},
   "outputs": [],
   "source": [
    "# create a differenced series\n",
    "def difference(dataset, interval=1):\n",
    "    diff = list()\n",
    "    for i in range(interval, len(dataset)):\n",
    "        value = dataset[i] - dataset[i - interval]\n",
    "        diff.append(value)\n",
    "    return Series(diff)"
   ]
  },
  {
   "cell_type": "code",
   "execution_count": 5,
   "metadata": {},
   "outputs": [],
   "source": [
    "# invert differenced value\n",
    "def inverse_difference(history, yhat, interval=1):\n",
    "    return yhat + history[-interval]"
   ]
  },
  {
   "cell_type": "code",
   "execution_count": 6,
   "metadata": {},
   "outputs": [],
   "source": [
    "# scale train and test data to [-1, 1]\n",
    "def scale(train, test):\n",
    "    # fit scaler\n",
    "    scaler = MinMaxScaler(feature_range=(-1, 1))\n",
    "    scaler = scaler.fit(train)\n",
    "    # transform train\n",
    "    train = train.reshape(train.shape[0], train.shape[1])\n",
    "    train_scaled = scaler.transform(train)\n",
    "    # transform test\n",
    "    test = test.reshape(test.shape[0], test.shape[1])\n",
    "    test_scaled = scaler.transform(test)\n",
    "    return scaler, train_scaled, test_scaled"
   ]
  },
  {
   "cell_type": "code",
   "execution_count": 7,
   "metadata": {},
   "outputs": [],
   "source": [
    "# inverse scaling for a forecasted value\n",
    "def invert_scale(scaler, X, value):\n",
    "    new_row = [x for x in X] + [value]\n",
    "    array = np.array(new_row)\n",
    "    array = array.reshape(1, len(array))\n",
    "    inverted = scaler.inverse_transform(array)\n",
    "    return inverted[0, -1]"
   ]
  },
  {
   "cell_type": "code",
   "execution_count": 8,
   "metadata": {},
   "outputs": [],
   "source": [
    "# fit an LSTM network to training data\n",
    "def fit_lstm(train, batch_size, nb_epoch, neurons):\n",
    "    X, y = train[:, 0:-1], train[:, -1]\n",
    "    X = X.reshape(X.shape[0], 1, X.shape[1])\n",
    "    model = Sequential()\n",
    "    model.add(LSTM(neurons, batch_input_shape=(batch_size, X.shape[1], X.shape[2]), stateful=True))\n",
    "    model.add(Dense(1))\n",
    "    model.compile(loss='mean_squared_error', optimizer='adam')\n",
    "    for i in range(nb_epoch):\n",
    "        model.fit(X, y, epochs=1, batch_size=batch_size, verbose=1, shuffle=False)\n",
    "        model.reset_states()\n",
    "    return model"
   ]
  },
  {
   "cell_type": "code",
   "execution_count": 9,
   "metadata": {},
   "outputs": [],
   "source": [
    "# make a one-step forecast\n",
    "def forecast_lstm(model, batch_size, X):\n",
    "    X = X.reshape(1, 1, len(X))\n",
    "    #print(X)\n",
    "    yhat = model.predict(X, batch_size=1)\n",
    "    return yhat[0,0]"
   ]
  },
  {
   "cell_type": "code",
   "execution_count": 10,
   "metadata": {},
   "outputs": [
    {
     "data": {
      "text/html": [
       "<div>\n",
       "<style scoped>\n",
       "    .dataframe tbody tr th:only-of-type {\n",
       "        vertical-align: middle;\n",
       "    }\n",
       "\n",
       "    .dataframe tbody tr th {\n",
       "        vertical-align: top;\n",
       "    }\n",
       "\n",
       "    .dataframe thead th {\n",
       "        text-align: right;\n",
       "    }\n",
       "</style>\n",
       "<table border=\"1\" class=\"dataframe\">\n",
       "  <thead>\n",
       "    <tr style=\"text-align: right;\">\n",
       "      <th></th>\n",
       "      <th>Air temperature | ('C)</th>\n",
       "      <th>Pressure | (atm)</th>\n",
       "      <th>Wind speed | (m/s)</th>\n",
       "      <th>Wind direction | (deg)</th>\n",
       "      <th>Power generated by system | (kW)</th>\n",
       "    </tr>\n",
       "    <tr>\n",
       "      <th>DateTime</th>\n",
       "      <th></th>\n",
       "      <th></th>\n",
       "      <th></th>\n",
       "      <th></th>\n",
       "      <th></th>\n",
       "    </tr>\n",
       "  </thead>\n",
       "  <tbody>\n",
       "    <tr>\n",
       "      <th>2007-01-01 00:00:00</th>\n",
       "      <td>10.926</td>\n",
       "      <td>0.979103</td>\n",
       "      <td>9.014</td>\n",
       "      <td>229</td>\n",
       "      <td>33688.1</td>\n",
       "    </tr>\n",
       "    <tr>\n",
       "      <th>2007-01-01 01:00:00</th>\n",
       "      <td>9.919</td>\n",
       "      <td>0.979566</td>\n",
       "      <td>9.428</td>\n",
       "      <td>232</td>\n",
       "      <td>37261.9</td>\n",
       "    </tr>\n",
       "    <tr>\n",
       "      <th>2007-01-01 02:00:00</th>\n",
       "      <td>8.567</td>\n",
       "      <td>0.979937</td>\n",
       "      <td>8.700</td>\n",
       "      <td>236</td>\n",
       "      <td>30502.9</td>\n",
       "    </tr>\n",
       "    <tr>\n",
       "      <th>2007-01-01 03:00:00</th>\n",
       "      <td>7.877</td>\n",
       "      <td>0.980053</td>\n",
       "      <td>8.481</td>\n",
       "      <td>247</td>\n",
       "      <td>28419.2</td>\n",
       "    </tr>\n",
       "    <tr>\n",
       "      <th>2007-01-01 04:00:00</th>\n",
       "      <td>7.259</td>\n",
       "      <td>0.979867</td>\n",
       "      <td>8.383</td>\n",
       "      <td>256</td>\n",
       "      <td>27370.3</td>\n",
       "    </tr>\n",
       "  </tbody>\n",
       "</table>\n",
       "</div>"
      ],
      "text/plain": [
       "                     Air temperature | ('C)  Pressure | (atm)  \\\n",
       "DateTime                                                        \n",
       "2007-01-01 00:00:00                  10.926          0.979103   \n",
       "2007-01-01 01:00:00                   9.919          0.979566   \n",
       "2007-01-01 02:00:00                   8.567          0.979937   \n",
       "2007-01-01 03:00:00                   7.877          0.980053   \n",
       "2007-01-01 04:00:00                   7.259          0.979867   \n",
       "\n",
       "                     Wind speed | (m/s)  Wind direction | (deg)  \\\n",
       "DateTime                                                          \n",
       "2007-01-01 00:00:00               9.014                     229   \n",
       "2007-01-01 01:00:00               9.428                     232   \n",
       "2007-01-01 02:00:00               8.700                     236   \n",
       "2007-01-01 03:00:00               8.481                     247   \n",
       "2007-01-01 04:00:00               8.383                     256   \n",
       "\n",
       "                     Power generated by system | (kW)  \n",
       "DateTime                                               \n",
       "2007-01-01 00:00:00                           33688.1  \n",
       "2007-01-01 01:00:00                           37261.9  \n",
       "2007-01-01 02:00:00                           30502.9  \n",
       "2007-01-01 03:00:00                           28419.2  \n",
       "2007-01-01 04:00:00                           27370.3  "
      ]
     },
     "execution_count": 10,
     "metadata": {},
     "output_type": "execute_result"
    }
   ],
   "source": [
    "''' Loading data '''\n",
    "import pandas as pd\n",
    "series = pd.read_excel('AL_WIND_07_12.xlsx',index_col=\"DateTime\")\n",
    "series.head()"
   ]
  },
  {
   "cell_type": "code",
   "execution_count": 11,
   "metadata": {},
   "outputs": [
    {
     "data": {
      "text/html": [
       "<div>\n",
       "<style scoped>\n",
       "    .dataframe tbody tr th:only-of-type {\n",
       "        vertical-align: middle;\n",
       "    }\n",
       "\n",
       "    .dataframe tbody tr th {\n",
       "        vertical-align: top;\n",
       "    }\n",
       "\n",
       "    .dataframe thead th {\n",
       "        text-align: right;\n",
       "    }\n",
       "</style>\n",
       "<table border=\"1\" class=\"dataframe\">\n",
       "  <thead>\n",
       "    <tr style=\"text-align: right;\">\n",
       "      <th></th>\n",
       "      <th>Power generated by system | (kW)</th>\n",
       "    </tr>\n",
       "    <tr>\n",
       "      <th>DateTime</th>\n",
       "      <th></th>\n",
       "    </tr>\n",
       "  </thead>\n",
       "  <tbody>\n",
       "    <tr>\n",
       "      <th>2007-01-01 00:00:00</th>\n",
       "      <td>33688.1</td>\n",
       "    </tr>\n",
       "    <tr>\n",
       "      <th>2007-01-01 01:00:00</th>\n",
       "      <td>37261.9</td>\n",
       "    </tr>\n",
       "    <tr>\n",
       "      <th>2007-01-01 02:00:00</th>\n",
       "      <td>30502.9</td>\n",
       "    </tr>\n",
       "    <tr>\n",
       "      <th>2007-01-01 03:00:00</th>\n",
       "      <td>28419.2</td>\n",
       "    </tr>\n",
       "    <tr>\n",
       "      <th>2007-01-01 04:00:00</th>\n",
       "      <td>27370.3</td>\n",
       "    </tr>\n",
       "  </tbody>\n",
       "</table>\n",
       "</div>"
      ],
      "text/plain": [
       "                     Power generated by system | (kW)\n",
       "DateTime                                             \n",
       "2007-01-01 00:00:00                           33688.1\n",
       "2007-01-01 01:00:00                           37261.9\n",
       "2007-01-01 02:00:00                           30502.9\n",
       "2007-01-01 03:00:00                           28419.2\n",
       "2007-01-01 04:00:00                           27370.3"
      ]
     },
     "execution_count": 11,
     "metadata": {},
     "output_type": "execute_result"
    }
   ],
   "source": [
    "'''Drop all the features as we will not be having any in production'''\n",
    "del series['Air temperature | (\\'C)']\n",
    "del series['Pressure | (atm)']\n",
    "del series['Wind speed | (m/s)']\n",
    "del series['Wind direction | (deg)']\n",
    "series.head()"
   ]
  },
  {
   "cell_type": "code",
   "execution_count": 12,
   "metadata": {},
   "outputs": [
    {
     "data": {
      "text/html": [
       "<div>\n",
       "<style scoped>\n",
       "    .dataframe tbody tr th:only-of-type {\n",
       "        vertical-align: middle;\n",
       "    }\n",
       "\n",
       "    .dataframe tbody tr th {\n",
       "        vertical-align: top;\n",
       "    }\n",
       "\n",
       "    .dataframe thead th {\n",
       "        text-align: right;\n",
       "    }\n",
       "</style>\n",
       "<table border=\"1\" class=\"dataframe\">\n",
       "  <thead>\n",
       "    <tr style=\"text-align: right;\">\n",
       "      <th></th>\n",
       "      <th>Power generated by system | (kW)</th>\n",
       "    </tr>\n",
       "    <tr>\n",
       "      <th>DateTime</th>\n",
       "      <th></th>\n",
       "    </tr>\n",
       "  </thead>\n",
       "  <tbody>\n",
       "    <tr>\n",
       "      <th>2012-12-31 09:00:00</th>\n",
       "      <td>6110.57</td>\n",
       "    </tr>\n",
       "    <tr>\n",
       "      <th>2012-12-31 10:00:00</th>\n",
       "      <td>6251.34</td>\n",
       "    </tr>\n",
       "    <tr>\n",
       "      <th>2012-12-31 11:00:00</th>\n",
       "      <td>6899.17</td>\n",
       "    </tr>\n",
       "    <tr>\n",
       "      <th>2012-12-31 12:00:00</th>\n",
       "      <td>4514.49</td>\n",
       "    </tr>\n",
       "    <tr>\n",
       "      <th>2012-12-31 13:00:00</th>\n",
       "      <td>1561.25</td>\n",
       "    </tr>\n",
       "  </tbody>\n",
       "</table>\n",
       "</div>"
      ],
      "text/plain": [
       "                     Power generated by system | (kW)\n",
       "DateTime                                             \n",
       "2012-12-31 09:00:00                           6110.57\n",
       "2012-12-31 10:00:00                           6251.34\n",
       "2012-12-31 11:00:00                           6899.17\n",
       "2012-12-31 12:00:00                           4514.49\n",
       "2012-12-31 13:00:00                           1561.25"
      ]
     },
     "execution_count": 12,
     "metadata": {},
     "output_type": "execute_result"
    }
   ],
   "source": [
    "for i in range(0,10):\n",
    "  series = series[:-1]\n",
    "series.tail()"
   ]
  },
  {
   "cell_type": "code",
   "execution_count": 13,
   "metadata": {},
   "outputs": [],
   "source": [
    "# transform data to be stationary\n",
    "raw_values = series.values\n",
    "diff_values = difference(raw_values, 1)"
   ]
  },
  {
   "cell_type": "code",
   "execution_count": 14,
   "metadata": {},
   "outputs": [],
   "source": [
    "# transform data to be supervised learning\n",
    "supervised = timeseries_to_supervised(diff_values, lag_exp)\n",
    "supervised_values = supervised.values"
   ]
  },
  {
   "cell_type": "code",
   "execution_count": 15,
   "metadata": {},
   "outputs": [],
   "source": [
    "# split data into train and test-sets\n",
    "train, test = supervised_values[0:-predict_values_exp], supervised_values[-predict_values_exp:]"
   ]
  },
  {
   "cell_type": "code",
   "execution_count": 16,
   "metadata": {},
   "outputs": [
    {
     "name": "stderr",
     "output_type": "stream",
     "text": [
      "C:\\ProgramData\\Anaconda3\\envs\\tensorflow\\lib\\site-packages\\sklearn\\utils\\validation.py:475: DataConversionWarning: Data with input dtype object was converted to float64 by MinMaxScaler.\n",
      "  warnings.warn(msg, DataConversionWarning)\n"
     ]
    }
   ],
   "source": [
    "# transform the scale of the data\n",
    "scaler, train_scaled, test_scaled = scale(train, test)"
   ]
  },
  {
   "cell_type": "code",
   "execution_count": 17,
   "metadata": {},
   "outputs": [
    {
     "name": "stdout",
     "output_type": "stream",
     "text": [
      "Epoch 1/1\n",
      "52381/52381 [==============================] - 101s 2ms/step - loss: 0.0140\n",
      "Epoch 1/1\n",
      "52381/52381 [==============================] - 102s 2ms/step - loss: 0.0137\n",
      "Epoch 1/1\n",
      "52381/52381 [==============================] - 116s 2ms/step - loss: 0.0135\n",
      "Epoch 1/1\n",
      "52381/52381 [==============================] - 122s 2ms/step - loss: 0.0134\n",
      "Epoch 1/1\n",
      "52381/52381 [==============================] - 121s 2ms/step - loss: 0.0133\n",
      "Epoch 1/1\n",
      "52381/52381 [==============================] - 130s 2ms/step - loss: 0.0132\n",
      "Epoch 1/1\n",
      "52381/52381 [==============================] - 130s 2ms/step - loss: 0.0132\n"
     ]
    }
   ],
   "source": [
    "# fit the model\n",
    "lstm_model = fit_lstm(train_scaled, batch_size_exp, epoch_exp, neurons_exp)"
   ]
  },
  {
   "cell_type": "code",
   "execution_count": 19,
   "metadata": {},
   "outputs": [
    {
     "name": "stdout",
     "output_type": "stream",
     "text": [
      "Hour=1, Predicted=17841.948934, Expected=9201.150000\n",
      "Hour=2, Predicted=6441.120420, Expected=4013.650000\n",
      "Hour=3, Predicted=2340.184228, Expected=3423.460000\n",
      "Hour=4, Predicted=3068.701197, Expected=5700.400000\n",
      "Hour=5, Predicted=6286.316442, Expected=17196.400000\n",
      "Hour=6, Predicted=17343.648290, Expected=9121.700000\n",
      "Hour=7, Predicted=9578.989250, Expected=11736.800000\n",
      "Hour=8, Predicted=12553.364989, Expected=11387.100000\n",
      "Hour=9, Predicted=12610.965824, Expected=11611.200000\n",
      "Hour=10, Predicted=13554.336265, Expected=15168.500000\n",
      "Hour=11, Predicted=16988.785875, Expected=17830.000000\n",
      "Hour=12, Predicted=18980.447890, Expected=14867.700000\n",
      "Hour=13, Predicted=15729.742489, Expected=6515.390000\n",
      "Hour=14, Predicted=7408.790366, Expected=4546.470000\n",
      "Hour=15, Predicted=5922.226777, Expected=7461.770000\n",
      "Hour=16, Predicted=9404.120866, Expected=5648.590000\n",
      "Hour=17, Predicted=7959.425088, Expected=9508.370000\n",
      "Hour=18, Predicted=11599.898438, Expected=0.000000\n",
      "Hour=19, Predicted=1343.166306, Expected=8662.060000\n",
      "Hour=20, Predicted=9169.745441, Expected=33313.400000\n",
      "Hour=21, Predicted=32770.467194, Expected=18847.400000\n",
      "Hour=22, Predicted=17417.780502, Expected=21983.700000\n",
      "Hour=23, Predicted=20752.853917, Expected=27665.600000\n",
      "Hour=24, Predicted=26593.833472, Expected=25627.700000\n",
      "Hour=25, Predicted=24534.588100, Expected=15047.900000\n",
      "Hour=26, Predicted=14051.018007, Expected=6001.030000\n",
      "Hour=27, Predicted=5376.162849, Expected=2831.900000\n",
      "Hour=28, Predicted=2692.105090, Expected=3438.420000\n",
      "Hour=29, Predicted=3774.172791, Expected=2174.210000\n",
      "Hour=30, Predicted=2875.484112, Expected=3697.180000\n",
      "Hour=31, Predicted=4751.972235, Expected=3698.550000\n",
      "Hour=32, Predicted=5152.587835, Expected=2191.970000\n",
      "Hour=33, Predicted=4046.318255, Expected=1260.400000\n",
      "Hour=34, Predicted=3416.080893, Expected=0.000000\n",
      "Hour=35, Predicted=2210.103630, Expected=0.000000\n",
      "Hour=36, Predicted=2016.746364, Expected=0.000000\n",
      "Hour=37, Predicted=1728.971037, Expected=6011.980000\n",
      "Hour=38, Predicted=7461.959602, Expected=15081.800000\n",
      "Hour=39, Predicted=16325.347326, Expected=18350.300000\n",
      "Hour=40, Predicted=19408.932279, Expected=22881.600000\n",
      "Hour=41, Predicted=23700.018269, Expected=29675.600000\n",
      "Hour=42, Predicted=30158.612127, Expected=15974.300000\n",
      "Hour=43, Predicted=16070.720874, Expected=13353.300000\n",
      "Hour=44, Predicted=13062.220535, Expected=8196.580000\n",
      "Hour=45, Predicted=7554.705744, Expected=8520.750000\n",
      "Hour=46, Predicted=7627.185484, Expected=11346.600000\n",
      "Hour=47, Predicted=10405.259039, Expected=12161.000000\n",
      "Hour=48, Predicted=11340.302026, Expected=18754.700000\n",
      "Hour=49, Predicted=18158.609096, Expected=13102.700000\n",
      "Hour=50, Predicted=12801.775293, Expected=5068.350000\n",
      "Hour=51, Predicted=5120.392994, Expected=3092.510000\n",
      "Hour=52, Predicted=3517.207809, Expected=9189.220000\n",
      "Hour=53, Predicted=9967.155030, Expected=19598.200000\n",
      "Hour=54, Predicted=20686.986443, Expected=18850.800000\n",
      "Hour=55, Predicted=20209.491502, Expected=26651.500000\n",
      "Hour=56, Predicted=28242.644394, Expected=41222.500000\n",
      "Hour=57, Predicted=42993.904403, Expected=44307.600000\n",
      "Hour=58, Predicted=46179.992013, Expected=45091.100000\n",
      "Hour=59, Predicted=46962.716411, Expected=54367.300000\n",
      "Hour=60, Predicted=56133.859342, Expected=55807.500000\n",
      "Hour=61, Predicted=57383.156243, Expected=56061.100000\n",
      "Hour=62, Predicted=57382.077978, Expected=56544.300000\n",
      "Hour=63, Predicted=57565.350505, Expected=56349.800000\n",
      "Hour=64, Predicted=57034.381075, Expected=56311.400000\n",
      "Hour=65, Predicted=56631.620400, Expected=56247.900000\n",
      "Hour=66, Predicted=56201.958901, Expected=56152.000000\n",
      "Hour=67, Predicted=55784.768503, Expected=22555.500000\n",
      "Hour=68, Predicted=21955.245952, Expected=53470.800000\n",
      "Hour=69, Predicted=52751.162298, Expected=56660.300000\n",
      "Hour=70, Predicted=55940.762105, Expected=52066.200000\n",
      "Hour=71, Predicted=51460.292429, Expected=57112.800000\n",
      "Hour=72, Predicted=56712.786376, Expected=57622.700000\n",
      "Hour=73, Predicted=57498.728587, Expected=57467.300000\n",
      "Hour=74, Predicted=57663.573657, Expected=53316.500000\n",
      "Hour=75, Predicted=53849.672780, Expected=56056.300000\n",
      "Hour=76, Predicted=56914.893409, Expected=58362.600000\n",
      "Hour=77, Predicted=59510.077948, Expected=58434.400000\n",
      "Hour=78, Predicted=59817.052692, Expected=58554.200000\n",
      "Hour=79, Predicted=60110.051971, Expected=58694.800000\n",
      "Hour=80, Predicted=60358.617036, Expected=58575.200000\n",
      "Hour=81, Predicted=60279.644679, Expected=53010.700000\n",
      "Hour=82, Predicted=54687.078719, Expected=47433.300000\n",
      "Hour=83, Predicted=49013.532802, Expected=42583.800000\n",
      "Hour=84, Predicted=44003.128849, Expected=37533.400000\n",
      "Hour=85, Predicted=38732.752324, Expected=30802.900000\n",
      "Hour=86, Predicted=31730.805961, Expected=22118.300000\n",
      "Hour=87, Predicted=22734.577978, Expected=19872.700000\n",
      "Hour=88, Predicted=20154.663648, Expected=20219.700000\n",
      "Hour=89, Predicted=20174.508683, Expected=22311.600000\n",
      "Hour=90, Predicted=21988.093960, Expected=16743.400000\n",
      "Hour=91, Predicted=16229.364986, Expected=11397.100000\n",
      "Hour=92, Predicted=10803.277526, Expected=7571.350000\n",
      "Hour=93, Predicted=7009.341886, Expected=7530.230000\n",
      "Hour=94, Predicted=7094.841699, Expected=5941.390000\n",
      "Hour=95, Predicted=5706.688911, Expected=6121.930000\n",
      "Hour=96, Predicted=6143.163854, Expected=1487.690000\n",
      "Hour=97, Predicted=1798.550062, Expected=0.000000\n",
      "Hour=98, Predicted=611.343468, Expected=725.355000\n",
      "Hour=99, Predicted=1625.584946, Expected=314.976000\n",
      "Hour=100, Predicted=1471.829747, Expected=0.000000\n",
      "Hour=101, Predicted=1364.582196, Expected=0.000000\n",
      "Hour=102, Predicted=1512.325926, Expected=0.000000\n",
      "Hour=103, Predicted=1594.587962, Expected=0.000000\n",
      "Hour=104, Predicted=1610.360943, Expected=0.000000\n",
      "Hour=105, Predicted=1561.587034, Expected=0.000000\n",
      "Hour=106, Predicted=1452.136999, Expected=0.000000\n",
      "Hour=107, Predicted=1287.136644, Expected=0.000000\n",
      "Hour=108, Predicted=1072.658727, Expected=0.000000\n",
      "Hour=109, Predicted=816.639283, Expected=1279.770000\n",
      "Hour=110, Predicted=1810.681136, Expected=2610.950000\n",
      "Hour=111, Predicted=2844.673374, Expected=2893.040000\n",
      "Hour=112, Predicted=2845.906005, Expected=680.289000\n",
      "Hour=113, Predicted=404.282229, Expected=1316.470000\n",
      "Hour=114, Predicted=893.571538, Expected=2730.490000\n",
      "Hour=115, Predicted=2258.534943, Expected=8771.750000\n",
      "Hour=116, Predicted=8347.371568, Expected=11282.000000\n",
      "Hour=117, Predicted=10987.148050, Expected=13774.400000\n",
      "Hour=118, Predicted=13675.441329, Expected=19978.700000\n",
      "Hour=119, Predicted=20121.776064, Expected=23318.400000\n",
      "Hour=120, Predicted=23728.107063, Expected=12301.800000\n",
      "Hour=121, Predicted=12982.170221, Expected=5331.850000\n",
      "Hour=122, Predicted=6267.711899, Expected=1479.590000\n",
      "Hour=123, Predicted=2638.758101, Expected=0.000000\n",
      "Hour=124, Predicted=1336.664723, Expected=1699.950000\n",
      "Hour=125, Predicted=3158.858205, Expected=4932.380000\n",
      "Hour=126, Predicted=6453.154982, Expected=10551.200000\n",
      "Hour=127, Predicted=12072.292468, Expected=11277.200000\n",
      "Hour=128, Predicted=12738.844956, Expected=20258.100000\n",
      "Hour=129, Predicted=21604.572205, Expected=27235.300000\n",
      "Hour=130, Predicted=28416.310674, Expected=29297.100000\n",
      "Hour=131, Predicted=30269.094726, Expected=50140.200000\n",
      "Hour=132, Predicted=50868.832233, Expected=28258.100000\n",
      "Hour=133, Predicted=28722.326853, Expected=0.000000\n",
      "Hour=134, Predicted=197.963345, Expected=3868.210000\n",
      "Hour=135, Predicted=3823.572728, Expected=0.000000\n",
      "Hour=136, Predicted=-232.715856, Expected=0.000000\n",
      "Hour=137, Predicted=-343.100695, Expected=0.000000\n",
      "Hour=138, Predicted=-366.147287, Expected=4135.800000\n",
      "Hour=139, Predicted=3829.837863, Expected=13607.200000\n",
      "Hour=140, Predicted=13434.293639, Expected=24571.700000\n",
      "Hour=141, Predicted=24588.985634, Expected=32106.600000\n",
      "Hour=142, Predicted=32352.003526, Expected=36286.000000\n",
      "Hour=143, Predicted=36777.750656, Expected=32040.800000\n",
      "Hour=144, Predicted=32778.286898, Expected=27413.500000\n",
      "Hour=145, Predicted=28378.838228, Expected=20005.800000\n",
      "Hour=146, Predicted=21166.226514, Expected=19870.600000\n",
      "Hour=147, Predicted=21181.841627, Expected=23296.700000\n",
      "Hour=148, Predicted=24706.767247, Expected=36275.400000\n",
      "Hour=149, Predicted=37728.269534, Expected=41119.700000\n",
      "Hour=150, Predicted=42558.645037, Expected=45831.200000\n",
      "Hour=151, Predicted=47201.504706, Expected=38451.600000\n",
      "Hour=152, Predicted=39702.625860, Expected=38107.700000\n",
      "Hour=153, Predicted=39194.372827, Expected=36325.100000\n",
      "Hour=154, Predicted=37209.677490, Expected=37641.300000\n",
      "Hour=155, Predicted=38296.070777, Expected=36876.500000\n",
      "Hour=156, Predicted=37287.961811, Expected=35723.600000\n",
      "Hour=157, Predicted=35897.403051, Expected=28221.500000\n",
      "Hour=158, Predicted=28186.527948, Expected=22650.000000\n",
      "Hour=159, Predicted=22460.793861, Expected=14845.100000\n",
      "Hour=160, Predicted=14574.453350, Expected=11449.700000\n",
      "Hour=161, Predicted=11176.099124, Expected=11637.200000\n",
      "Hour=162, Predicted=11435.209192, Expected=6465.350000\n",
      "Hour=163, Predicted=6399.082731, Expected=5802.110000\n",
      "Hour=164, Predicted=5919.990545, Expected=6110.570000\n",
      "Hour=165, Predicted=6443.250184, Expected=6251.340000\n",
      "Hour=166, Predicted=6811.653171, Expected=6899.170000\n",
      "Hour=167, Predicted=7682.912755, Expected=4514.490000\n",
      "Hour=168, Predicted=5501.911748, Expected=1561.250000\n"
     ]
    }
   ],
   "source": [
    "# walk-forward validation on the test data\n",
    "predictions = list()\n",
    "expectations = list()\n",
    "predictions_plot = list()\n",
    "expectations_plot = list()\n",
    "test_pred = list()\n",
    "for i in range(len(test_scaled)):\n",
    "    # make one-step forecast\n",
    "    X, y = test_scaled[i, 0:-1], test_scaled[i, -1]\n",
    "    yhat = forecast_lstm(lstm_model, 1, X)#batch_size_exp to 1\n",
    "    '''# Start Debug prints\n",
    "    print(\"X: %\", X)\n",
    "    print(\"yhat: %\", yhat)\n",
    "    # End Debug prints'''\n",
    "    # Replacing value in test scaled with the predicted value.\n",
    "    test_pred = [yhat] + test_pred \n",
    "    if len(test_pred) > lag_exp+1:\n",
    "        test_pred = test_pred[:-1]\n",
    "    if i+1<len(test_scaled):\n",
    "        if i+1 > lag_exp+1:\n",
    "            test_scaled[i+1] = test_pred\n",
    "        else:\n",
    "            test_scaled[i+1] = np.concatenate((test_pred, test_scaled[i+1, i+1:]),axis=0)\n",
    "\n",
    "    # invert scaling\n",
    "    yhat = invert_scale(scaler, X, yhat)\n",
    "    # invert differencing\n",
    "    yhat = inverse_difference(raw_values, yhat, len(test_scaled)+1-i)\n",
    "    # store forecast\n",
    "    expected = raw_values[len(train) + i + 1]\n",
    "    predictions_plot.append(yhat)\n",
    "    expectations_plot.append(expected)\n",
    "    if expected != 0:\n",
    "        predictions.append(yhat)\n",
    "        expectations.append(expected)\n",
    "    print('Hour=%d, Predicted=%f, Expected=%f' % (i+1, yhat, expected))"
   ]
  },
  {
   "cell_type": "code",
   "execution_count": 20,
   "metadata": {},
   "outputs": [
    {
     "name": "stdout",
     "output_type": "stream",
     "text": [
      "Mean Absolute Percent Error:  44.742541420265795\n"
     ]
    }
   ],
   "source": [
    "expectations = np.array(expectations)\n",
    "predictions = np.array(predictions)\n",
    "print(\"Mean Absolute Percent Error: \", (np.mean(np.abs((expectations - predictions) / expectations))*100))"
   ]
  },
  {
   "cell_type": "code",
   "execution_count": 21,
   "metadata": {},
   "outputs": [
    {
     "data": {
      "image/png": "[encoded data removed]",
      "text/plain": [
       "<Figure size 1440x576 with 1 Axes>"
      ]
     },
     "metadata": {},
     "output_type": "display_data"
    }
   ],
   "source": [
    "# line plot of observed vs predicted\n",
    "pyplot.figure(figsize=(20,8))\n",
    "pyplot.plot(expectations_plot, label=\"True\")\n",
    "pyplot.plot(predictions_plot, label=\"Predicted\")\n",
    "pyplot.legend(loc='upper right')\n",
    "pyplot.xlabel(\"Number of hours\")\n",
    "pyplot.ylabel(\"Power generated by system (kW)\")\n",
    "pyplot.show()"
   ]
  },
  {
   "cell_type": "code",
   "execution_count": null,
   "metadata": {},
   "outputs": [],
   "source": []
  }
 ],
 "metadata": {
  "kernelspec": {
   "display_name": "Python 3",
   "language": "python",
   "name": "python3"
  },
  "language_info": {
   "codemirror_mode": {
    "name": "ipython",
    "version": 3
   },
   "file_extension": ".py",
   "mimetype": "text/x-python",
   "name": "python",
   "nbconvert_exporter": "python",
   "pygments_lexer": "ipython3",
   "version": "3.5.5"
  }
 },
 "nbformat": 4,
 "nbformat_minor": 2
}
